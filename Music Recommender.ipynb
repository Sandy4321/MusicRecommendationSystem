{
 "cells": [
  {
   "cell_type": "code",
   "execution_count": 7,
   "metadata": {
    "collapsed": true
   },
   "outputs": [],
   "source": [
    "#imports\n",
    "import numpy as np\n",
    "import pandas as pd\n",
    "from sklearn.cross_validation import train_test_split\n",
    "import recommenderClass as recommender"
   ]
  },
  {
   "cell_type": "code",
   "execution_count": 2,
   "metadata": {
    "collapsed": false
   },
   "outputs": [],
   "source": [
    "#define dataset locations\n",
    "ids_file='https://static.turi.com/datasets/millionsong/10000.txt' # is a file loc with song ids, user ids and listen count\n",
    "metadata_loc='https://static.turi.com/datasets/millionsong/song_data.csv' # is a file loc which contains song names, song ids, artist details\n",
    "\n",
    "#combine both of these dataframes such that there exists 1 dataframe with prominence given to song id, user id and listen count\n",
    "song_pd=pd.read_table('song_metadata.txt',header=None)\n",
    "song_pd.columns=['user_id','song_id','listen_count']\n",
    "metadata_pd=pd.read_csv('song_data.csv')\n",
    "\n",
    "song_df=pd.merge(song_pd,metadata_pd.drop_duplicates(['song_id']), on='song_id', how='left')"
   ]
  },
  {
   "cell_type": "code",
   "execution_count": null,
   "metadata": {
    "collapsed": false
   },
   "outputs": [],
   "source": [
    "#visualize combined dataset\n",
    "song_df.head()"
   ]
  },
  {
   "cell_type": "code",
   "execution_count": null,
   "metadata": {
    "collapsed": false
   },
   "outputs": [],
   "source": [
    "len(song_df)"
   ]
  },
  {
   "cell_type": "code",
   "execution_count": 3,
   "metadata": {
    "collapsed": false
   },
   "outputs": [],
   "source": [
    "#define a new column entry called 'song' that combines title and artist name\n",
    "song_df=song_df.head(10000)\n",
    "song_df['song']=song_df['title'].map(str)+\"-\"+song_df['artist_name'].map(str)\n"
   ]
  },
  {
   "cell_type": "code",
   "execution_count": 4,
   "metadata": {
    "collapsed": false
   },
   "outputs": [
    {
     "data": {
      "text/html": [
       "<div>\n",
       "<table border=\"1\" class=\"dataframe\">\n",
       "  <thead>\n",
       "    <tr style=\"text-align: right;\">\n",
       "      <th></th>\n",
       "      <th>song</th>\n",
       "      <th>listen_count</th>\n",
       "      <th>percentage</th>\n",
       "    </tr>\n",
       "  </thead>\n",
       "  <tbody>\n",
       "    <tr>\n",
       "      <th>3660</th>\n",
       "      <td>Sehr kosmisch-Harmonia</td>\n",
       "      <td>45</td>\n",
       "      <td>0.0045</td>\n",
       "    </tr>\n",
       "    <tr>\n",
       "      <th>4678</th>\n",
       "      <td>Undo-Björk</td>\n",
       "      <td>32</td>\n",
       "      <td>0.0032</td>\n",
       "    </tr>\n",
       "    <tr>\n",
       "      <th>5105</th>\n",
       "      <td>You're The One-Dwight Yoakam</td>\n",
       "      <td>32</td>\n",
       "      <td>0.0032</td>\n",
       "    </tr>\n",
       "    <tr>\n",
       "      <th>1071</th>\n",
       "      <td>Dog Days Are Over (Radio Edit)-Florence + The ...</td>\n",
       "      <td>28</td>\n",
       "      <td>0.0028</td>\n",
       "    </tr>\n",
       "    <tr>\n",
       "      <th>3655</th>\n",
       "      <td>Secrets-OneRepublic</td>\n",
       "      <td>28</td>\n",
       "      <td>0.0028</td>\n",
       "    </tr>\n",
       "    <tr>\n",
       "      <th>4378</th>\n",
       "      <td>The Scientist-Coldplay</td>\n",
       "      <td>27</td>\n",
       "      <td>0.0027</td>\n",
       "    </tr>\n",
       "    <tr>\n",
       "      <th>4712</th>\n",
       "      <td>Use Somebody-Kings Of Leon</td>\n",
       "      <td>27</td>\n",
       "      <td>0.0027</td>\n",
       "    </tr>\n",
       "    <tr>\n",
       "      <th>3476</th>\n",
       "      <td>Revelry-Kings Of Leon</td>\n",
       "      <td>26</td>\n",
       "      <td>0.0026</td>\n",
       "    </tr>\n",
       "    <tr>\n",
       "      <th>1387</th>\n",
       "      <td>Fireflies-Charttraxx Karaoke</td>\n",
       "      <td>24</td>\n",
       "      <td>0.0024</td>\n",
       "    </tr>\n",
       "    <tr>\n",
       "      <th>1862</th>\n",
       "      <td>Horn Concerto No. 4 in E flat K495: II. Romanc...</td>\n",
       "      <td>23</td>\n",
       "      <td>0.0023</td>\n",
       "    </tr>\n",
       "    <tr>\n",
       "      <th>1805</th>\n",
       "      <td>Hey_ Soul Sister-Train</td>\n",
       "      <td>22</td>\n",
       "      <td>0.0022</td>\n",
       "    </tr>\n",
       "    <tr>\n",
       "      <th>5032</th>\n",
       "      <td>Yellow-Coldplay</td>\n",
       "      <td>22</td>\n",
       "      <td>0.0022</td>\n",
       "    </tr>\n",
       "    <tr>\n",
       "      <th>808</th>\n",
       "      <td>Clocks-Coldplay</td>\n",
       "      <td>21</td>\n",
       "      <td>0.0021</td>\n",
       "    </tr>\n",
       "    <tr>\n",
       "      <th>2620</th>\n",
       "      <td>Lucky (Album Version)-Jason Mraz &amp; Colbie Caillat</td>\n",
       "      <td>20</td>\n",
       "      <td>0.0020</td>\n",
       "    </tr>\n",
       "    <tr>\n",
       "      <th>2299</th>\n",
       "      <td>Just Dance-Lady GaGa / Colby O'Donis</td>\n",
       "      <td>19</td>\n",
       "      <td>0.0019</td>\n",
       "    </tr>\n",
       "    <tr>\n",
       "      <th>456</th>\n",
       "      <td>Billionaire [feat. Bruno Mars]  (Explicit Albu...</td>\n",
       "      <td>18</td>\n",
       "      <td>0.0018</td>\n",
       "    </tr>\n",
       "    <tr>\n",
       "      <th>2689</th>\n",
       "      <td>Marry Me-Train</td>\n",
       "      <td>18</td>\n",
       "      <td>0.0018</td>\n",
       "    </tr>\n",
       "    <tr>\n",
       "      <th>3064</th>\n",
       "      <td>OMG-Usher featuring will.i.am</td>\n",
       "      <td>18</td>\n",
       "      <td>0.0018</td>\n",
       "    </tr>\n",
       "    <tr>\n",
       "      <th>4543</th>\n",
       "      <td>Tive Sim-Cartola</td>\n",
       "      <td>18</td>\n",
       "      <td>0.0018</td>\n",
       "    </tr>\n",
       "    <tr>\n",
       "      <th>142</th>\n",
       "      <td>Alejandro-Lady GaGa</td>\n",
       "      <td>17</td>\n",
       "      <td>0.0017</td>\n",
       "    </tr>\n",
       "    <tr>\n",
       "      <th>726</th>\n",
       "      <td>Catch You Baby (Steve Pitron &amp; Max Sanna Radio...</td>\n",
       "      <td>17</td>\n",
       "      <td>0.0017</td>\n",
       "    </tr>\n",
       "    <tr>\n",
       "      <th>1410</th>\n",
       "      <td>Float On-Modest Mouse</td>\n",
       "      <td>17</td>\n",
       "      <td>0.0017</td>\n",
       "    </tr>\n",
       "    <tr>\n",
       "      <th>3868</th>\n",
       "      <td>Somebody To Love-Justin Bieber</td>\n",
       "      <td>17</td>\n",
       "      <td>0.0017</td>\n",
       "    </tr>\n",
       "    <tr>\n",
       "      <th>631</th>\n",
       "      <td>Bulletproof-La Roux</td>\n",
       "      <td>16</td>\n",
       "      <td>0.0016</td>\n",
       "    </tr>\n",
       "    <tr>\n",
       "      <th>1142</th>\n",
       "      <td>Drop The World-Lil Wayne / Eminem</td>\n",
       "      <td>16</td>\n",
       "      <td>0.0016</td>\n",
       "    </tr>\n",
       "    <tr>\n",
       "      <th>3038</th>\n",
       "      <td>Nothin' On You [feat. Bruno Mars] (Album Versi...</td>\n",
       "      <td>16</td>\n",
       "      <td>0.0016</td>\n",
       "    </tr>\n",
       "    <tr>\n",
       "      <th>4465</th>\n",
       "      <td>They Might Follow You-Tiny Vipers</td>\n",
       "      <td>16</td>\n",
       "      <td>0.0016</td>\n",
       "    </tr>\n",
       "    <tr>\n",
       "      <th>870</th>\n",
       "      <td>Cosmic Love-Florence + The Machine</td>\n",
       "      <td>15</td>\n",
       "      <td>0.0015</td>\n",
       "    </tr>\n",
       "    <tr>\n",
       "      <th>899</th>\n",
       "      <td>Creep (Explicit)-Radiohead</td>\n",
       "      <td>15</td>\n",
       "      <td>0.0015</td>\n",
       "    </tr>\n",
       "    <tr>\n",
       "      <th>1680</th>\n",
       "      <td>Halo-Beyoncé</td>\n",
       "      <td>15</td>\n",
       "      <td>0.0015</td>\n",
       "    </tr>\n",
       "    <tr>\n",
       "      <th>...</th>\n",
       "      <td>...</td>\n",
       "      <td>...</td>\n",
       "      <td>...</td>\n",
       "    </tr>\n",
       "    <tr>\n",
       "      <th>5094</th>\n",
       "      <td>You Yourself are Too Serious-The Mercury Program</td>\n",
       "      <td>1</td>\n",
       "      <td>0.0001</td>\n",
       "    </tr>\n",
       "    <tr>\n",
       "      <th>5098</th>\n",
       "      <td>You'll Never Know (My Love) (Bovellian 07 Mix)...</td>\n",
       "      <td>1</td>\n",
       "      <td>0.0001</td>\n",
       "    </tr>\n",
       "    <tr>\n",
       "      <th>5100</th>\n",
       "      <td>You're A Wolf (Album)-Sea Wolf</td>\n",
       "      <td>1</td>\n",
       "      <td>0.0001</td>\n",
       "    </tr>\n",
       "    <tr>\n",
       "      <th>5102</th>\n",
       "      <td>You're Gonna Miss Me When I'm Gone-Brooks &amp; Dunn</td>\n",
       "      <td>1</td>\n",
       "      <td>0.0001</td>\n",
       "    </tr>\n",
       "    <tr>\n",
       "      <th>5103</th>\n",
       "      <td>You're Not Alone-ATB</td>\n",
       "      <td>1</td>\n",
       "      <td>0.0001</td>\n",
       "    </tr>\n",
       "    <tr>\n",
       "      <th>5104</th>\n",
       "      <td>You're Not Alone-Olive</td>\n",
       "      <td>1</td>\n",
       "      <td>0.0001</td>\n",
       "    </tr>\n",
       "    <tr>\n",
       "      <th>5108</th>\n",
       "      <td>You've Passed-Neutral Milk Hotel</td>\n",
       "      <td>1</td>\n",
       "      <td>0.0001</td>\n",
       "    </tr>\n",
       "    <tr>\n",
       "      <th>5110</th>\n",
       "      <td>Young-Hollywood Undead</td>\n",
       "      <td>1</td>\n",
       "      <td>0.0001</td>\n",
       "    </tr>\n",
       "    <tr>\n",
       "      <th>5111</th>\n",
       "      <td>Younger Than Springtime-William Tabbert</td>\n",
       "      <td>1</td>\n",
       "      <td>0.0001</td>\n",
       "    </tr>\n",
       "    <tr>\n",
       "      <th>5112</th>\n",
       "      <td>Your Arms Feel Like home-3 Doors Down</td>\n",
       "      <td>1</td>\n",
       "      <td>0.0001</td>\n",
       "    </tr>\n",
       "    <tr>\n",
       "      <th>5113</th>\n",
       "      <td>Your Every Idol-Telefon Tel Aviv</td>\n",
       "      <td>1</td>\n",
       "      <td>0.0001</td>\n",
       "    </tr>\n",
       "    <tr>\n",
       "      <th>5114</th>\n",
       "      <td>Your Ex-Lover Is Dead (Album Version)-Stars</td>\n",
       "      <td>1</td>\n",
       "      <td>0.0001</td>\n",
       "    </tr>\n",
       "    <tr>\n",
       "      <th>5115</th>\n",
       "      <td>Your Guardian Angel-The Red Jumpsuit Apparatus</td>\n",
       "      <td>1</td>\n",
       "      <td>0.0001</td>\n",
       "    </tr>\n",
       "    <tr>\n",
       "      <th>5117</th>\n",
       "      <td>Your House-Jimmy Eat World</td>\n",
       "      <td>1</td>\n",
       "      <td>0.0001</td>\n",
       "    </tr>\n",
       "    <tr>\n",
       "      <th>5119</th>\n",
       "      <td>Your Love-The Outfield</td>\n",
       "      <td>1</td>\n",
       "      <td>0.0001</td>\n",
       "    </tr>\n",
       "    <tr>\n",
       "      <th>5121</th>\n",
       "      <td>Your Mouth-Telefon Tel Aviv</td>\n",
       "      <td>1</td>\n",
       "      <td>0.0001</td>\n",
       "    </tr>\n",
       "    <tr>\n",
       "      <th>5123</th>\n",
       "      <td>Your Song (Alternate Take 10)-Cilla Black</td>\n",
       "      <td>1</td>\n",
       "      <td>0.0001</td>\n",
       "    </tr>\n",
       "    <tr>\n",
       "      <th>5126</th>\n",
       "      <td>Your Visits Are Getting Shorter-Bloc Party</td>\n",
       "      <td>1</td>\n",
       "      <td>0.0001</td>\n",
       "    </tr>\n",
       "    <tr>\n",
       "      <th>5127</th>\n",
       "      <td>Your Woman-White Town</td>\n",
       "      <td>1</td>\n",
       "      <td>0.0001</td>\n",
       "    </tr>\n",
       "    <tr>\n",
       "      <th>5130</th>\n",
       "      <td>Ze Rook Naar Rozen-Rob De Nijs</td>\n",
       "      <td>1</td>\n",
       "      <td>0.0001</td>\n",
       "    </tr>\n",
       "    <tr>\n",
       "      <th>5131</th>\n",
       "      <td>Zebra-Beach House</td>\n",
       "      <td>1</td>\n",
       "      <td>0.0001</td>\n",
       "    </tr>\n",
       "    <tr>\n",
       "      <th>5132</th>\n",
       "      <td>Zebra-Man Man</td>\n",
       "      <td>1</td>\n",
       "      <td>0.0001</td>\n",
       "    </tr>\n",
       "    <tr>\n",
       "      <th>5133</th>\n",
       "      <td>Zero-The Pain Machinery</td>\n",
       "      <td>1</td>\n",
       "      <td>0.0001</td>\n",
       "    </tr>\n",
       "    <tr>\n",
       "      <th>5135</th>\n",
       "      <td>Zopf: Pigtail-Penguin Café Orchestra</td>\n",
       "      <td>1</td>\n",
       "      <td>0.0001</td>\n",
       "    </tr>\n",
       "    <tr>\n",
       "      <th>5137</th>\n",
       "      <td>aNYway-Armand Van Helden &amp; A-TRAK Present Duck...</td>\n",
       "      <td>1</td>\n",
       "      <td>0.0001</td>\n",
       "    </tr>\n",
       "    <tr>\n",
       "      <th>5139</th>\n",
       "      <td>high fives-Four Tet</td>\n",
       "      <td>1</td>\n",
       "      <td>0.0001</td>\n",
       "    </tr>\n",
       "    <tr>\n",
       "      <th>5140</th>\n",
       "      <td>in white rooms-Booka Shade</td>\n",
       "      <td>1</td>\n",
       "      <td>0.0001</td>\n",
       "    </tr>\n",
       "    <tr>\n",
       "      <th>5143</th>\n",
       "      <td>paranoid android-Christopher O'Riley</td>\n",
       "      <td>1</td>\n",
       "      <td>0.0001</td>\n",
       "    </tr>\n",
       "    <tr>\n",
       "      <th>5149</th>\n",
       "      <td>¿Lo Ves? [Piano Y Voz]-Alejandro Sanz</td>\n",
       "      <td>1</td>\n",
       "      <td>0.0001</td>\n",
       "    </tr>\n",
       "    <tr>\n",
       "      <th>5150</th>\n",
       "      <td>Época-Gotan Project</td>\n",
       "      <td>1</td>\n",
       "      <td>0.0001</td>\n",
       "    </tr>\n",
       "  </tbody>\n",
       "</table>\n",
       "<p>5151 rows × 3 columns</p>\n",
       "</div>"
      ],
      "text/plain": [
       "                                                   song  listen_count  \\\n",
       "3660                             Sehr kosmisch-Harmonia            45   \n",
       "4678                                         Undo-Björk            32   \n",
       "5105                       You're The One-Dwight Yoakam            32   \n",
       "1071  Dog Days Are Over (Radio Edit)-Florence + The ...            28   \n",
       "3655                                Secrets-OneRepublic            28   \n",
       "4378                             The Scientist-Coldplay            27   \n",
       "4712                         Use Somebody-Kings Of Leon            27   \n",
       "3476                              Revelry-Kings Of Leon            26   \n",
       "1387                       Fireflies-Charttraxx Karaoke            24   \n",
       "1862  Horn Concerto No. 4 in E flat K495: II. Romanc...            23   \n",
       "1805                             Hey_ Soul Sister-Train            22   \n",
       "5032                                    Yellow-Coldplay            22   \n",
       "808                                     Clocks-Coldplay            21   \n",
       "2620  Lucky (Album Version)-Jason Mraz & Colbie Caillat            20   \n",
       "2299               Just Dance-Lady GaGa / Colby O'Donis            19   \n",
       "456   Billionaire [feat. Bruno Mars]  (Explicit Albu...            18   \n",
       "2689                                     Marry Me-Train            18   \n",
       "3064                      OMG-Usher featuring will.i.am            18   \n",
       "4543                                   Tive Sim-Cartola            18   \n",
       "142                                 Alejandro-Lady GaGa            17   \n",
       "726   Catch You Baby (Steve Pitron & Max Sanna Radio...            17   \n",
       "1410                              Float On-Modest Mouse            17   \n",
       "3868                     Somebody To Love-Justin Bieber            17   \n",
       "631                                 Bulletproof-La Roux            16   \n",
       "1142                  Drop The World-Lil Wayne / Eminem            16   \n",
       "3038  Nothin' On You [feat. Bruno Mars] (Album Versi...            16   \n",
       "4465                  They Might Follow You-Tiny Vipers            16   \n",
       "870                  Cosmic Love-Florence + The Machine            15   \n",
       "899                          Creep (Explicit)-Radiohead            15   \n",
       "1680                                       Halo-Beyoncé            15   \n",
       "...                                                 ...           ...   \n",
       "5094   You Yourself are Too Serious-The Mercury Program             1   \n",
       "5098  You'll Never Know (My Love) (Bovellian 07 Mix)...             1   \n",
       "5100                     You're A Wolf (Album)-Sea Wolf             1   \n",
       "5102   You're Gonna Miss Me When I'm Gone-Brooks & Dunn             1   \n",
       "5103                               You're Not Alone-ATB             1   \n",
       "5104                             You're Not Alone-Olive             1   \n",
       "5108                   You've Passed-Neutral Milk Hotel             1   \n",
       "5110                             Young-Hollywood Undead             1   \n",
       "5111            Younger Than Springtime-William Tabbert             1   \n",
       "5112              Your Arms Feel Like home-3 Doors Down             1   \n",
       "5113                   Your Every Idol-Telefon Tel Aviv             1   \n",
       "5114        Your Ex-Lover Is Dead (Album Version)-Stars             1   \n",
       "5115     Your Guardian Angel-The Red Jumpsuit Apparatus             1   \n",
       "5117                         Your House-Jimmy Eat World             1   \n",
       "5119                             Your Love-The Outfield             1   \n",
       "5121                        Your Mouth-Telefon Tel Aviv             1   \n",
       "5123          Your Song (Alternate Take 10)-Cilla Black             1   \n",
       "5126         Your Visits Are Getting Shorter-Bloc Party             1   \n",
       "5127                              Your Woman-White Town             1   \n",
       "5130                     Ze Rook Naar Rozen-Rob De Nijs             1   \n",
       "5131                                  Zebra-Beach House             1   \n",
       "5132                                      Zebra-Man Man             1   \n",
       "5133                            Zero-The Pain Machinery             1   \n",
       "5135               Zopf: Pigtail-Penguin Café Orchestra             1   \n",
       "5137  aNYway-Armand Van Helden & A-TRAK Present Duck...             1   \n",
       "5139                                high fives-Four Tet             1   \n",
       "5140                         in white rooms-Booka Shade             1   \n",
       "5143               paranoid android-Christopher O'Riley             1   \n",
       "5149              ¿Lo Ves? [Piano Y Voz]-Alejandro Sanz             1   \n",
       "5150                                Época-Gotan Project             1   \n",
       "\n",
       "      percentage  \n",
       "3660      0.0045  \n",
       "4678      0.0032  \n",
       "5105      0.0032  \n",
       "1071      0.0028  \n",
       "3655      0.0028  \n",
       "4378      0.0027  \n",
       "4712      0.0027  \n",
       "3476      0.0026  \n",
       "1387      0.0024  \n",
       "1862      0.0023  \n",
       "1805      0.0022  \n",
       "5032      0.0022  \n",
       "808       0.0021  \n",
       "2620      0.0020  \n",
       "2299      0.0019  \n",
       "456       0.0018  \n",
       "2689      0.0018  \n",
       "3064      0.0018  \n",
       "4543      0.0018  \n",
       "142       0.0017  \n",
       "726       0.0017  \n",
       "1410      0.0017  \n",
       "3868      0.0017  \n",
       "631       0.0016  \n",
       "1142      0.0016  \n",
       "3038      0.0016  \n",
       "4465      0.0016  \n",
       "870       0.0015  \n",
       "899       0.0015  \n",
       "1680      0.0015  \n",
       "...          ...  \n",
       "5094      0.0001  \n",
       "5098      0.0001  \n",
       "5100      0.0001  \n",
       "5102      0.0001  \n",
       "5103      0.0001  \n",
       "5104      0.0001  \n",
       "5108      0.0001  \n",
       "5110      0.0001  \n",
       "5111      0.0001  \n",
       "5112      0.0001  \n",
       "5113      0.0001  \n",
       "5114      0.0001  \n",
       "5115      0.0001  \n",
       "5117      0.0001  \n",
       "5119      0.0001  \n",
       "5121      0.0001  \n",
       "5123      0.0001  \n",
       "5126      0.0001  \n",
       "5127      0.0001  \n",
       "5130      0.0001  \n",
       "5131      0.0001  \n",
       "5132      0.0001  \n",
       "5133      0.0001  \n",
       "5135      0.0001  \n",
       "5137      0.0001  \n",
       "5139      0.0001  \n",
       "5140      0.0001  \n",
       "5143      0.0001  \n",
       "5149      0.0001  \n",
       "5150      0.0001  \n",
       "\n",
       "[5151 rows x 3 columns]"
      ]
     },
     "execution_count": 4,
     "metadata": {},
     "output_type": "execute_result"
    }
   ],
   "source": [
    "#get the aggregate listen count and percentage value for each song and sort the data\n",
    "songs_count=song_df.groupby(['song']).agg({'listen_count':'count'}).reset_index()\n",
    "grouped_sum=songs_count['listen_count'].sum()\n",
    "songs_count['percentage']=songs_count['listen_count']/grouped_sum\n",
    "songs_count.sort_values(['listen_count','song'], ascending=[0,1])\n"
   ]
  },
  {
   "cell_type": "code",
   "execution_count": 5,
   "metadata": {
    "collapsed": false
   },
   "outputs": [
    {
     "data": {
      "text/plain": [
       "365"
      ]
     },
     "execution_count": 5,
     "metadata": {},
     "output_type": "execute_result"
    }
   ],
   "source": [
    "unique_users=song_df['user_id'].unique()\n",
    "len(unique_users)"
   ]
  },
  {
   "cell_type": "code",
   "execution_count": null,
   "metadata": {
    "collapsed": false
   },
   "outputs": [],
   "source": [
    "songs_count['percentage'].sum()"
   ]
  },
  {
   "cell_type": "code",
   "execution_count": null,
   "metadata": {
    "collapsed": false
   },
   "outputs": [],
   "source": [
    "#unique song count\n",
    "len(song_df['song'].unique())\n"
   ]
  },
  {
   "cell_type": "code",
   "execution_count": 8,
   "metadata": {
    "collapsed": false
   },
   "outputs": [
    {
     "name": "stdout",
     "output_type": "stream",
     "text": [
      "                                       user_id             song_id  \\\n",
      "7389  94d5bdc37683950e90c56c9b32721edb5d347600  SOXNZOW12AB017F756   \n",
      "9275  1012ecfd277b96487ed8357d02fa8326b13696a5  SOXHYVQ12AB0187949   \n",
      "2995  15415fa2745b344bce958967c346f2a89f792f63  SOOSZAZ12A6D4FADF8   \n",
      "5316  ffadf9297a99945c0513cd87939d91d8b602936b  SOWDJEJ12A8C1339FE   \n",
      "356   5a905f000fc1ff3df7ca807d57edb608863db05d  SOAMPRJ12A8AE45F38   \n",
      "\n",
      "      listen_count                 title  \\\n",
      "7389             2      Half Of My Heart   \n",
      "9275             1  The Beautiful People   \n",
      "2995             1     Sanctify Yourself   \n",
      "5316             4     Heart Cooks Brain   \n",
      "356             20                 Rorol   \n",
      "\n",
      "                                                release      artist_name  \\\n",
      "7389                                     Battle Studies       John Mayer   \n",
      "9275             Antichrist Superstar (Ecopac Explicit)   Marilyn Manson   \n",
      "2995                             Glittering Prize 81/92     Simple Minds   \n",
      "5316  Everything Is Nice: The Matador Records 10th A...     Modest Mouse   \n",
      "356                               Identification Parade  Octopus Project   \n",
      "\n",
      "      year                                 song  \n",
      "7389     0          Half Of My Heart-John Mayer  \n",
      "9275     0  The Beautiful People-Marilyn Manson  \n",
      "2995  1985       Sanctify Yourself-Simple Minds  \n",
      "5316  1997       Heart Cooks Brain-Modest Mouse  \n",
      "356   2002                Rorol-Octopus Project  \n"
     ]
    }
   ],
   "source": [
    "#creating a song recommender based on popularity based sys and colloborative system\n",
    "#creating train-test data with testdata size being 20%\n",
    "trainData,testData=train_test_split(song_df,test_size=0.20,random_state=0)\n",
    "print(trainData.head(5))"
   ]
  },
  {
   "cell_type": "code",
   "execution_count": null,
   "metadata": {
    "collapsed": false
   },
   "outputs": [],
   "source": [
    "trainData.keys()"
   ]
  },
  {
   "cell_type": "code",
   "execution_count": null,
   "metadata": {
    "collapsed": false
   },
   "outputs": [],
   "source": [
    "trainData['song_id'].unique()"
   ]
  },
  {
   "cell_type": "code",
   "execution_count": null,
   "metadata": {
    "collapsed": false
   },
   "outputs": [],
   "source": [
    "trainData['user_id'].unique()"
   ]
  },
  {
   "cell_type": "markdown",
   "metadata": {},
   "source": [
    "# Lets look at how popularity based recommendation model works\n"
   ]
  },
  {
   "cell_type": "code",
   "execution_count": null,
   "metadata": {
    "collapsed": true
   },
   "outputs": [],
   "source": [
    "p_recommender=recommender.popularityRecommender()"
   ]
  },
  {
   "cell_type": "code",
   "execution_count": null,
   "metadata": {
    "collapsed": false
   },
   "outputs": [],
   "source": [
    "p_recommender.create(trainData,'user_id','song')\n"
   ]
  },
  {
   "cell_type": "code",
   "execution_count": null,
   "metadata": {
    "collapsed": true
   },
   "outputs": [],
   "source": [
    "user_id=unique_users[5]\n",
    "p_recommender.recommend(user_id)"
   ]
  },
  {
   "cell_type": "markdown",
   "metadata": {},
   "source": [
    "lets try to understand how the code in method 'popularityRecommender.create()' is written"
   ]
  },
  {
   "cell_type": "code",
   "execution_count": null,
   "metadata": {
    "collapsed": false
   },
   "outputs": [],
   "source": [
    "\n",
    "trainData.keys()"
   ]
  },
  {
   "cell_type": "code",
   "execution_count": null,
   "metadata": {
    "collapsed": true
   },
   "outputs": [],
   "source": [
    "groupedData=trainData.groupby(['song']).agg({'user_id':'count'}).reset_index()\n",
    "groupedData"
   ]
  },
  {
   "cell_type": "code",
   "execution_count": null,
   "metadata": {
    "collapsed": true
   },
   "outputs": [],
   "source": [
    "groupedData.rename(columns={'user_id':'score'}, inplace=True)\n",
    "groupedData"
   ]
  },
  {
   "cell_type": "code",
   "execution_count": null,
   "metadata": {
    "collapsed": true
   },
   "outputs": [],
   "source": [
    "groupedData=groupedData.sort_values(['score'],ascending=False)"
   ]
  },
  {
   "cell_type": "code",
   "execution_count": null,
   "metadata": {
    "collapsed": false
   },
   "outputs": [],
   "source": [
    "groupedData['rank']=groupedData['score'].rank(ascending=0,method='first')\n",
    "groupedData"
   ]
  },
  {
   "cell_type": "code",
   "execution_count": null,
   "metadata": {
    "collapsed": false
   },
   "outputs": [],
   "source": [
    "user_recommendations=groupedData\n",
    "user_id=5\n",
    "user_recommendations['user_id']=user_id\n",
    "cols=user_recommendations.columns.tolist()\n",
    "cols"
   ]
  },
  {
   "cell_type": "code",
   "execution_count": null,
   "metadata": {
    "collapsed": false
   },
   "outputs": [],
   "source": [
    "cols[-1:]+cols[:-1]"
   ]
  },
  {
   "cell_type": "markdown",
   "metadata": {},
   "source": [
    "# Lets look at how item based similarity recommendation model works"
   ]
  },
  {
   "cell_type": "code",
   "execution_count": 9,
   "metadata": {
    "collapsed": false
   },
   "outputs": [],
   "source": [
    "irecommender=recommender.item_similarity_recommender()\n"
   ]
  },
  {
   "cell_type": "code",
   "execution_count": 10,
   "metadata": {
    "collapsed": true
   },
   "outputs": [],
   "source": [
    "irecommender.create(trainData,'user_id','song')"
   ]
  },
  {
   "cell_type": "code",
   "execution_count": 11,
   "metadata": {
    "collapsed": false
   },
   "outputs": [
    {
     "data": {
      "text/plain": [
       "['Just Lose It-Eminem',\n",
       " 'Without Me-Eminem',\n",
       " '16 Candles-The Crests',\n",
       " 'Speechless-Lady GaGa',\n",
       " 'Push It-Salt-N-Pepa',\n",
       " \"Ghosts 'n' Stuff (Original Instrumental Mix)-Deadmau5\",\n",
       " \"Say My Name-Destiny's Child\",\n",
       " \"My Dad's Gone Crazy-Eminem / Hailie Jade\",\n",
       " 'The Real Slim Shady-Eminem',\n",
       " 'Somebody To Love-Justin Bieber',\n",
       " 'Forgive Me-Leona Lewis',\n",
       " 'Missing You-John Waite',\n",
       " 'Ya Nada Queda-Kudai']"
      ]
     },
     "execution_count": 11,
     "metadata": {},
     "output_type": "execute_result"
    }
   ],
   "source": [
    "user_id=unique_users[5]\n",
    "irecommender.get_unique_songs_for_user(user_id)"
   ]
  },
  {
   "cell_type": "code",
   "execution_count": 16,
   "metadata": {
    "collapsed": false
   },
   "outputs": [],
   "source": [
    "inputlist=list(trainData[trainData['user_id']==user_id]['song'])\n"
   ]
  },
  {
   "cell_type": "code",
   "execution_count": 12,
   "metadata": {
    "collapsed": true
   },
   "outputs": [
    {
     "name": "stdout",
     "output_type": "stream",
     "text": [
      "No. of unique songs for the user: 13\n",
      "no. of unique songs in the training set: 4483\n",
      "non zero value in coocurence matrix 0\n"
     ]
    },
    {
     "data": {
      "text/html": [
       "<div>\n",
       "<table border=\"1\" class=\"dataframe\">\n",
       "  <thead>\n",
       "    <tr style=\"text-align: right;\">\n",
       "      <th></th>\n",
       "      <th>user_id</th>\n",
       "      <th>song</th>\n",
       "      <th>score</th>\n",
       "      <th>rank</th>\n",
       "    </tr>\n",
       "  </thead>\n",
       "  <tbody>\n",
       "    <tr>\n",
       "      <th>0</th>\n",
       "      <td>4bd88bfb25263a75bbdd467e74018f4ae570e5df</td>\n",
       "      <td>Cover My Eyes-La Roux</td>\n",
       "      <td>0.0</td>\n",
       "      <td>1.0</td>\n",
       "    </tr>\n",
       "    <tr>\n",
       "      <th>1</th>\n",
       "      <td>4bd88bfb25263a75bbdd467e74018f4ae570e5df</td>\n",
       "      <td>The Carpal Tunnel Of Love-Fall Out Boy</td>\n",
       "      <td>0.0</td>\n",
       "      <td>2.0</td>\n",
       "    </tr>\n",
       "    <tr>\n",
       "      <th>2</th>\n",
       "      <td>4bd88bfb25263a75bbdd467e74018f4ae570e5df</td>\n",
       "      <td>The Whole World-Outkast Featuring Killer Mike</td>\n",
       "      <td>0.0</td>\n",
       "      <td>3.0</td>\n",
       "    </tr>\n",
       "    <tr>\n",
       "      <th>3</th>\n",
       "      <td>4bd88bfb25263a75bbdd467e74018f4ae570e5df</td>\n",
       "      <td>Go With The Flow-Queens Of The Stone Age</td>\n",
       "      <td>0.0</td>\n",
       "      <td>4.0</td>\n",
       "    </tr>\n",
       "    <tr>\n",
       "      <th>4</th>\n",
       "      <td>4bd88bfb25263a75bbdd467e74018f4ae570e5df</td>\n",
       "      <td>She Just Likes To Fight-Four Tet</td>\n",
       "      <td>0.0</td>\n",
       "      <td>5.0</td>\n",
       "    </tr>\n",
       "    <tr>\n",
       "      <th>5</th>\n",
       "      <td>4bd88bfb25263a75bbdd467e74018f4ae570e5df</td>\n",
       "      <td>Mourning Air-Portishead</td>\n",
       "      <td>0.0</td>\n",
       "      <td>6.0</td>\n",
       "    </tr>\n",
       "    <tr>\n",
       "      <th>6</th>\n",
       "      <td>4bd88bfb25263a75bbdd467e74018f4ae570e5df</td>\n",
       "      <td>Break Through-Colbie Caillat</td>\n",
       "      <td>0.0</td>\n",
       "      <td>7.0</td>\n",
       "    </tr>\n",
       "    <tr>\n",
       "      <th>7</th>\n",
       "      <td>4bd88bfb25263a75bbdd467e74018f4ae570e5df</td>\n",
       "      <td>Creepin Up The Backstairs-The Fratellis</td>\n",
       "      <td>0.0</td>\n",
       "      <td>8.0</td>\n",
       "    </tr>\n",
       "    <tr>\n",
       "      <th>8</th>\n",
       "      <td>4bd88bfb25263a75bbdd467e74018f4ae570e5df</td>\n",
       "      <td>Warning Sign-Coldplay</td>\n",
       "      <td>0.0</td>\n",
       "      <td>9.0</td>\n",
       "    </tr>\n",
       "    <tr>\n",
       "      <th>9</th>\n",
       "      <td>4bd88bfb25263a75bbdd467e74018f4ae570e5df</td>\n",
       "      <td>Your Arms Feel Like home-3 Doors Down</td>\n",
       "      <td>0.0</td>\n",
       "      <td>10.0</td>\n",
       "    </tr>\n",
       "  </tbody>\n",
       "</table>\n",
       "</div>"
      ],
      "text/plain": [
       "                                    user_id  \\\n",
       "0  4bd88bfb25263a75bbdd467e74018f4ae570e5df   \n",
       "1  4bd88bfb25263a75bbdd467e74018f4ae570e5df   \n",
       "2  4bd88bfb25263a75bbdd467e74018f4ae570e5df   \n",
       "3  4bd88bfb25263a75bbdd467e74018f4ae570e5df   \n",
       "4  4bd88bfb25263a75bbdd467e74018f4ae570e5df   \n",
       "5  4bd88bfb25263a75bbdd467e74018f4ae570e5df   \n",
       "6  4bd88bfb25263a75bbdd467e74018f4ae570e5df   \n",
       "7  4bd88bfb25263a75bbdd467e74018f4ae570e5df   \n",
       "8  4bd88bfb25263a75bbdd467e74018f4ae570e5df   \n",
       "9  4bd88bfb25263a75bbdd467e74018f4ae570e5df   \n",
       "\n",
       "                                            song  score  rank  \n",
       "0                          Cover My Eyes-La Roux    0.0   1.0  \n",
       "1         The Carpal Tunnel Of Love-Fall Out Boy    0.0   2.0  \n",
       "2  The Whole World-Outkast Featuring Killer Mike    0.0   3.0  \n",
       "3       Go With The Flow-Queens Of The Stone Age    0.0   4.0  \n",
       "4               She Just Likes To Fight-Four Tet    0.0   5.0  \n",
       "5                        Mourning Air-Portishead    0.0   6.0  \n",
       "6                   Break Through-Colbie Caillat    0.0   7.0  \n",
       "7        Creepin Up The Backstairs-The Fratellis    0.0   8.0  \n",
       "8                          Warning Sign-Coldplay    0.0   9.0  \n",
       "9          Your Arms Feel Like home-3 Doors Down    0.0  10.0  "
      ]
     },
     "execution_count": 12,
     "metadata": {},
     "output_type": "execute_result"
    }
   ],
   "source": [
    "irecommender.recommend(user_id)"
   ]
  },
  {
   "cell_type": "code",
   "execution_count": 20,
   "metadata": {
    "collapsed": true
   },
   "outputs": [
    {
     "data": {
      "text/plain": [
       "[83      4bd88bfb25263a75bbdd467e74018f4ae570e5df\n",
       " 3563    bd64f193f0f53f09d44ff48fd52830ff2fded392\n",
       " 6120    c1fc436b58e28b3e3f1b43a4e955baa19d8a69ba\n",
       " Name: user_id, dtype: object, 6123    c1fc436b58e28b3e3f1b43a4e955baa19d8a69ba\n",
       " 85      4bd88bfb25263a75bbdd467e74018f4ae570e5df\n",
       " 6640    6b7a5895d266599bc414b9eb8fbad59c95b9a99d\n",
       " 1695    930d2be6c85315d72cab9823ec0f7bfe7e477794\n",
       " 7938    9c4e14bbd043846b632d3737f08104dcaeb88142\n",
       " 7785    e427f647c231c1bde8881eca5b2f5db9b3bcb2b4\n",
       " 7769    390c2e81bc9cf885608a0891c0a7eb13f1fd3336\n",
       " 1307    a58de017cbeda1763ea002fe027ed41b4ed53109\n",
       " Name: user_id, dtype: object, 6122    c1fc436b58e28b3e3f1b43a4e955baa19d8a69ba\n",
       " 7936    9c4e14bbd043846b632d3737f08104dcaeb88142\n",
       " 2866    3ff7a31452eeabd7a4e07f0d243c674e3d0adf46\n",
       " 84      4bd88bfb25263a75bbdd467e74018f4ae570e5df\n",
       " 2385    c2cffe9ccaa09a327e8134e9a1f24901801fb2f8\n",
       " 1694    930d2be6c85315d72cab9823ec0f7bfe7e477794\n",
       " 1360    2b6c2f33bc0e887ea7c4411f58106805a1923280\n",
       " 7137    0c306ce1440dec3b5b07b425880e43b4fb66fe93\n",
       " Name: user_id, dtype: object, 9984    bf03bbb01a7803ed1a5fec51bfe9423a79737d1a\n",
       " 87      4bd88bfb25263a75bbdd467e74018f4ae570e5df\n",
       " 9664    332de6dcfc5b597500a661ab51a84653705b492b\n",
       " 2352    8cbb5066924ec788e3fea9a4aae59586f46f38fa\n",
       " Name: user_id, dtype: object, 6850    0a00498b9d607844a8826184ae7278097d1c008a\n",
       " 7014    529b42cdbc379ad2e765aec6d3bad8a192038741\n",
       " 86      4bd88bfb25263a75bbdd467e74018f4ae570e5df\n",
       " Name: user_id, dtype: object, 5557    1b704d4cddabea8258bd93497fcb73eab32fa592\n",
       " 6886    4208d4ac45e7caab7167a4ea6d34e759a6b9a1fc\n",
       " 421     5a905f000fc1ff3df7ca807d57edb608863db05d\n",
       " 1895    b6b799f34a204bd928ea014c243ddad6d0be4f8f\n",
       " 8152    97cd6b9403a63af8b37839f959e1758a3923539f\n",
       " 76      4bd88bfb25263a75bbdd467e74018f4ae570e5df\n",
       " 4550    ea6cbdb88a3bead8ace9c163d8e8eca78e374a19\n",
       " 4182    bab8d135cf88852063ed4a084dd24c783d7ff841\n",
       " Name: user_id, dtype: object, 5060    dfb41c400ed8fbb064644d173f8fd00398ca4370\n",
       " 82      4bd88bfb25263a75bbdd467e74018f4ae570e5df\n",
       " Name: user_id, dtype: object, 7776    e427f647c231c1bde8881eca5b2f5db9b3bcb2b4\n",
       " 77      4bd88bfb25263a75bbdd467e74018f4ae570e5df\n",
       " Name: user_id, dtype: object, 153     b64cdd1a0bd907e5e00b39e345194768e330d652\n",
       " 1330    951945330eb5df161ac4f97729647514001cd102\n",
       " 3537    bd64f193f0f53f09d44ff48fd52830ff2fded392\n",
       " 9287    8fa25e588aeedaa539674babb75729ac9f31f15e\n",
       " 5513    8caf9a87e266a22298bd977a63489d008af241c5\n",
       " 7779    e427f647c231c1bde8881eca5b2f5db9b3bcb2b4\n",
       " 6116    c1fc436b58e28b3e3f1b43a4e955baa19d8a69ba\n",
       " 7732    390c2e81bc9cf885608a0891c0a7eb13f1fd3336\n",
       " 80      4bd88bfb25263a75bbdd467e74018f4ae570e5df\n",
       " 9303    4ccd8c954827238fb97bcedf005ef6b3602370dd\n",
       " Name: user_id, dtype: object, 6461    d9f2ea75b38f548535caee41d2c0b0e3f9859b1b\n",
       " 1889    b6b799f34a204bd928ea014c243ddad6d0be4f8f\n",
       " 3365    95773b3725a96464c85a5121d00f2566e6e8b69b\n",
       " 918     bd8475385f0aa78830fa6dfce9e7242164b035c8\n",
       " 5201    4691b4c353503da2c108e372ff056a9ac847c4d1\n",
       " 7712    390c2e81bc9cf885608a0891c0a7eb13f1fd3336\n",
       " 7645    3fc803c12264ab6599ee9e379c565be2bb3b0903\n",
       " 9603    c5c7548cba9970b695f1ade5164c11a0101eb00e\n",
       " 8692    c24ec42f0e449ff39a95a01f0795f833b898f71b\n",
       " 2907    07caa920795cd4f20bfeeb0e192a5ddd9566ecdd\n",
       " 75      4bd88bfb25263a75bbdd467e74018f4ae570e5df\n",
       " 2326    8cbb5066924ec788e3fea9a4aae59586f46f38fa\n",
       " 3577    4782b9bb73322bf80329ce5989128a67bc538747\n",
       " 1198    a58de017cbeda1763ea002fe027ed41b4ed53109\n",
       " Name: user_id, dtype: object, 5793    956999576244ad42d6d41faac8505fbef0a4ccc1\n",
       " 7507    ec25e3d78ea8374869a772dc58bb903528a3c9cc\n",
       " 7652    3fc803c12264ab6599ee9e379c565be2bb3b0903\n",
       " 81      4bd88bfb25263a75bbdd467e74018f4ae570e5df\n",
       " 5746    b009d2161ab50a122f8c81adb7ce0d40e8e42f2d\n",
       " Name: user_id, dtype: object, 78    4bd88bfb25263a75bbdd467e74018f4ae570e5df\n",
       " Name: user_id, dtype: object, 6160    e701a24d9b6c59f5ac37ab28462ca82470e27cfb\n",
       " 79      4bd88bfb25263a75bbdd467e74018f4ae570e5df\n",
       " Name: user_id, dtype: object]"
      ]
     },
     "execution_count": 20,
     "metadata": {},
     "output_type": "execute_result"
    }
   ],
   "source": [
    "user_list=[]\n",
    "for i in inputlist:\n",
    "    user_list.append(trainData[trainData['song']==i]['user_id'])\n",
    "user_list    \n",
    "#list of users who listen to songs derived by inputlist"
   ]
  },
  {
   "cell_type": "code",
   "execution_count": null,
   "metadata": {
    "collapsed": true
   },
   "outputs": [],
   "source": []
  }
 ],
 "metadata": {
  "anaconda-cloud": {},
  "kernelspec": {
   "display_name": "Python [conda root]",
   "language": "python",
   "name": "conda-root-py"
  },
  "language_info": {
   "codemirror_mode": {
    "name": "ipython",
    "version": 3
   },
   "file_extension": ".py",
   "mimetype": "text/x-python",
   "name": "python",
   "nbconvert_exporter": "python",
   "pygments_lexer": "ipython3",
   "version": "3.5.2"
  }
 },
 "nbformat": 4,
 "nbformat_minor": 1
}
